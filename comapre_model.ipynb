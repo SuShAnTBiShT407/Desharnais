{
 "cells": [
  {
   "cell_type": "code",
   "execution_count": 4,
   "metadata": {},
   "outputs": [],
   "source": [
    "import pandas as pd\n",
    "import numpy as np\n",
    "import seaborn as sns\n",
    "import plotly.express as px\n",
    "import matplotlib.pyplot as plt\n",
    "from sklearn.ensemble import RandomForestRegressor\n",
    "from sklearn.linear_model import LinearRegression\n",
    "from sklearn.model_selection import train_test_split\n",
    "from sklearn.metrics import mean_absolute_error, mean_squared_error, mean_squared_log_error, r2_score\n",
    "from sklearn.ensemble import StackingRegressor\n",
    "from sklearn.pipeline import make_pipeline"
   ]
  },
  {
   "cell_type": "code",
   "execution_count": 5,
   "metadata": {},
   "outputs": [
    {
     "data": {
      "text/html": [
       "<div>\n",
       "<style scoped>\n",
       "    .dataframe tbody tr th:only-of-type {\n",
       "        vertical-align: middle;\n",
       "    }\n",
       "\n",
       "    .dataframe tbody tr th {\n",
       "        vertical-align: top;\n",
       "    }\n",
       "\n",
       "    .dataframe thead th {\n",
       "        text-align: right;\n",
       "    }\n",
       "</style>\n",
       "<table border=\"1\" class=\"dataframe\">\n",
       "  <thead>\n",
       "    <tr style=\"text-align: right;\">\n",
       "      <th></th>\n",
       "      <th>AFP</th>\n",
       "      <th>Input</th>\n",
       "      <th>Output</th>\n",
       "      <th>Enquiry</th>\n",
       "      <th>File</th>\n",
       "      <th>Interface</th>\n",
       "      <th>Added</th>\n",
       "      <th>Changed</th>\n",
       "      <th>Deleted</th>\n",
       "      <th>Resource</th>\n",
       "      <th>Duration</th>\n",
       "      <th>DevType</th>\n",
       "      <th>AdjFactor</th>\n",
       "      <th>Effort</th>\n",
       "    </tr>\n",
       "  </thead>\n",
       "  <tbody>\n",
       "    <tr>\n",
       "      <th>0</th>\n",
       "      <td>1587</td>\n",
       "      <td>774</td>\n",
       "      <td>260</td>\n",
       "      <td>340</td>\n",
       "      <td>128</td>\n",
       "      <td>0</td>\n",
       "      <td>1502</td>\n",
       "      <td>0</td>\n",
       "      <td>0</td>\n",
       "      <td>4</td>\n",
       "      <td>4.0</td>\n",
       "      <td>NewDev</td>\n",
       "      <td>1.056591</td>\n",
       "      <td>7490</td>\n",
       "    </tr>\n",
       "    <tr>\n",
       "      <th>1</th>\n",
       "      <td>260</td>\n",
       "      <td>9</td>\n",
       "      <td>4</td>\n",
       "      <td>3</td>\n",
       "      <td>193</td>\n",
       "      <td>41</td>\n",
       "      <td>51</td>\n",
       "      <td>138</td>\n",
       "      <td>61</td>\n",
       "      <td>2</td>\n",
       "      <td>17.0</td>\n",
       "      <td>Maint</td>\n",
       "      <td>1.040000</td>\n",
       "      <td>4150</td>\n",
       "    </tr>\n",
       "    <tr>\n",
       "      <th>2</th>\n",
       "      <td>152</td>\n",
       "      <td>25</td>\n",
       "      <td>33</td>\n",
       "      <td>28</td>\n",
       "      <td>42</td>\n",
       "      <td>35</td>\n",
       "      <td>163</td>\n",
       "      <td>0</td>\n",
       "      <td>0</td>\n",
       "      <td>1</td>\n",
       "      <td>9.0</td>\n",
       "      <td>NewDev</td>\n",
       "      <td>0.932515</td>\n",
       "      <td>668</td>\n",
       "    </tr>\n",
       "    <tr>\n",
       "      <th>3</th>\n",
       "      <td>252</td>\n",
       "      <td>151</td>\n",
       "      <td>28</td>\n",
       "      <td>8</td>\n",
       "      <td>39</td>\n",
       "      <td>0</td>\n",
       "      <td>69</td>\n",
       "      <td>153</td>\n",
       "      <td>4</td>\n",
       "      <td>1</td>\n",
       "      <td>4.0</td>\n",
       "      <td>Maint</td>\n",
       "      <td>1.115044</td>\n",
       "      <td>3238</td>\n",
       "    </tr>\n",
       "    <tr>\n",
       "      <th>4</th>\n",
       "      <td>292</td>\n",
       "      <td>93</td>\n",
       "      <td>0</td>\n",
       "      <td>194</td>\n",
       "      <td>20</td>\n",
       "      <td>0</td>\n",
       "      <td>0</td>\n",
       "      <td>307</td>\n",
       "      <td>0</td>\n",
       "      <td>1</td>\n",
       "      <td>13.0</td>\n",
       "      <td>Maint</td>\n",
       "      <td>0.951140</td>\n",
       "      <td>2994</td>\n",
       "    </tr>\n",
       "    <tr>\n",
       "      <th>...</th>\n",
       "      <td>...</td>\n",
       "      <td>...</td>\n",
       "      <td>...</td>\n",
       "      <td>...</td>\n",
       "      <td>...</td>\n",
       "      <td>...</td>\n",
       "      <td>...</td>\n",
       "      <td>...</td>\n",
       "      <td>...</td>\n",
       "      <td>...</td>\n",
       "      <td>...</td>\n",
       "      <td>...</td>\n",
       "      <td>...</td>\n",
       "      <td>...</td>\n",
       "    </tr>\n",
       "    <tr>\n",
       "      <th>494</th>\n",
       "      <td>51</td>\n",
       "      <td>32</td>\n",
       "      <td>0</td>\n",
       "      <td>16</td>\n",
       "      <td>7</td>\n",
       "      <td>0</td>\n",
       "      <td>0</td>\n",
       "      <td>55</td>\n",
       "      <td>0</td>\n",
       "      <td>1</td>\n",
       "      <td>3.0</td>\n",
       "      <td>Maint</td>\n",
       "      <td>0.927273</td>\n",
       "      <td>899</td>\n",
       "    </tr>\n",
       "    <tr>\n",
       "      <th>495</th>\n",
       "      <td>1106</td>\n",
       "      <td>410</td>\n",
       "      <td>267</td>\n",
       "      <td>108</td>\n",
       "      <td>152</td>\n",
       "      <td>25</td>\n",
       "      <td>962</td>\n",
       "      <td>0</td>\n",
       "      <td>0</td>\n",
       "      <td>2</td>\n",
       "      <td>20.0</td>\n",
       "      <td>NewDev</td>\n",
       "      <td>1.149688</td>\n",
       "      <td>16560</td>\n",
       "    </tr>\n",
       "    <tr>\n",
       "      <th>496</th>\n",
       "      <td>99</td>\n",
       "      <td>13</td>\n",
       "      <td>32</td>\n",
       "      <td>3</td>\n",
       "      <td>42</td>\n",
       "      <td>5</td>\n",
       "      <td>95</td>\n",
       "      <td>0</td>\n",
       "      <td>0</td>\n",
       "      <td>1</td>\n",
       "      <td>4.0</td>\n",
       "      <td>NewDev</td>\n",
       "      <td>1.042105</td>\n",
       "      <td>526</td>\n",
       "    </tr>\n",
       "    <tr>\n",
       "      <th>497</th>\n",
       "      <td>56</td>\n",
       "      <td>24</td>\n",
       "      <td>0</td>\n",
       "      <td>9</td>\n",
       "      <td>14</td>\n",
       "      <td>0</td>\n",
       "      <td>47</td>\n",
       "      <td>0</td>\n",
       "      <td>0</td>\n",
       "      <td>2</td>\n",
       "      <td>6.0</td>\n",
       "      <td>NewDev</td>\n",
       "      <td>1.191489</td>\n",
       "      <td>440</td>\n",
       "    </tr>\n",
       "    <tr>\n",
       "      <th>498</th>\n",
       "      <td>213</td>\n",
       "      <td>123</td>\n",
       "      <td>91</td>\n",
       "      <td>28</td>\n",
       "      <td>0</td>\n",
       "      <td>0</td>\n",
       "      <td>36</td>\n",
       "      <td>206</td>\n",
       "      <td>0</td>\n",
       "      <td>1</td>\n",
       "      <td>7.0</td>\n",
       "      <td>Maint</td>\n",
       "      <td>0.880165</td>\n",
       "      <td>2185</td>\n",
       "    </tr>\n",
       "  </tbody>\n",
       "</table>\n",
       "<p>499 rows × 14 columns</p>\n",
       "</div>"
      ],
      "text/plain": [
       "      AFP  Input  Output  Enquiry  File  Interface  Added  Changed  Deleted  \\\n",
       "0    1587    774     260      340   128          0   1502        0        0   \n",
       "1     260      9       4        3   193         41     51      138       61   \n",
       "2     152     25      33       28    42         35    163        0        0   \n",
       "3     252    151      28        8    39          0     69      153        4   \n",
       "4     292     93       0      194    20          0      0      307        0   \n",
       "..    ...    ...     ...      ...   ...        ...    ...      ...      ...   \n",
       "494    51     32       0       16     7          0      0       55        0   \n",
       "495  1106    410     267      108   152         25    962        0        0   \n",
       "496    99     13      32        3    42          5     95        0        0   \n",
       "497    56     24       0        9    14          0     47        0        0   \n",
       "498   213    123      91       28     0          0     36      206        0   \n",
       "\n",
       "     Resource  Duration DevType  AdjFactor  Effort  \n",
       "0           4       4.0  NewDev   1.056591    7490  \n",
       "1           2      17.0   Maint   1.040000    4150  \n",
       "2           1       9.0  NewDev   0.932515     668  \n",
       "3           1       4.0   Maint   1.115044    3238  \n",
       "4           1      13.0   Maint   0.951140    2994  \n",
       "..        ...       ...     ...        ...     ...  \n",
       "494         1       3.0   Maint   0.927273     899  \n",
       "495         2      20.0  NewDev   1.149688   16560  \n",
       "496         1       4.0  NewDev   1.042105     526  \n",
       "497         2       6.0  NewDev   1.191489     440  \n",
       "498         1       7.0   Maint   0.880165    2185  \n",
       "\n",
       "[499 rows x 14 columns]"
      ]
     },
     "execution_count": 5,
     "metadata": {},
     "output_type": "execute_result"
    }
   ],
   "source": [
    "df = pd.read_csv(\"china.csv\")\n",
    "df"
   ]
  },
  {
   "cell_type": "code",
   "execution_count": 6,
   "metadata": {},
   "outputs": [
    {
     "data": {
      "text/html": [
       "<div>\n",
       "<style scoped>\n",
       "    .dataframe tbody tr th:only-of-type {\n",
       "        vertical-align: middle;\n",
       "    }\n",
       "\n",
       "    .dataframe tbody tr th {\n",
       "        vertical-align: top;\n",
       "    }\n",
       "\n",
       "    .dataframe thead th {\n",
       "        text-align: right;\n",
       "    }\n",
       "</style>\n",
       "<table border=\"1\" class=\"dataframe\">\n",
       "  <thead>\n",
       "    <tr style=\"text-align: right;\">\n",
       "      <th></th>\n",
       "      <th>AFP</th>\n",
       "      <th>Input</th>\n",
       "      <th>Output</th>\n",
       "      <th>Enquiry</th>\n",
       "      <th>File</th>\n",
       "      <th>Added</th>\n",
       "      <th>Duration</th>\n",
       "      <th>Effort</th>\n",
       "    </tr>\n",
       "  </thead>\n",
       "  <tbody>\n",
       "    <tr>\n",
       "      <th>0</th>\n",
       "      <td>1587</td>\n",
       "      <td>774</td>\n",
       "      <td>260</td>\n",
       "      <td>340</td>\n",
       "      <td>128</td>\n",
       "      <td>1502</td>\n",
       "      <td>4.0</td>\n",
       "      <td>7490</td>\n",
       "    </tr>\n",
       "    <tr>\n",
       "      <th>1</th>\n",
       "      <td>260</td>\n",
       "      <td>9</td>\n",
       "      <td>4</td>\n",
       "      <td>3</td>\n",
       "      <td>193</td>\n",
       "      <td>51</td>\n",
       "      <td>17.0</td>\n",
       "      <td>4150</td>\n",
       "    </tr>\n",
       "    <tr>\n",
       "      <th>2</th>\n",
       "      <td>152</td>\n",
       "      <td>25</td>\n",
       "      <td>33</td>\n",
       "      <td>28</td>\n",
       "      <td>42</td>\n",
       "      <td>163</td>\n",
       "      <td>9.0</td>\n",
       "      <td>668</td>\n",
       "    </tr>\n",
       "    <tr>\n",
       "      <th>3</th>\n",
       "      <td>252</td>\n",
       "      <td>151</td>\n",
       "      <td>28</td>\n",
       "      <td>8</td>\n",
       "      <td>39</td>\n",
       "      <td>69</td>\n",
       "      <td>4.0</td>\n",
       "      <td>3238</td>\n",
       "    </tr>\n",
       "    <tr>\n",
       "      <th>4</th>\n",
       "      <td>292</td>\n",
       "      <td>93</td>\n",
       "      <td>0</td>\n",
       "      <td>194</td>\n",
       "      <td>20</td>\n",
       "      <td>0</td>\n",
       "      <td>13.0</td>\n",
       "      <td>2994</td>\n",
       "    </tr>\n",
       "    <tr>\n",
       "      <th>...</th>\n",
       "      <td>...</td>\n",
       "      <td>...</td>\n",
       "      <td>...</td>\n",
       "      <td>...</td>\n",
       "      <td>...</td>\n",
       "      <td>...</td>\n",
       "      <td>...</td>\n",
       "      <td>...</td>\n",
       "    </tr>\n",
       "    <tr>\n",
       "      <th>494</th>\n",
       "      <td>51</td>\n",
       "      <td>32</td>\n",
       "      <td>0</td>\n",
       "      <td>16</td>\n",
       "      <td>7</td>\n",
       "      <td>0</td>\n",
       "      <td>3.0</td>\n",
       "      <td>899</td>\n",
       "    </tr>\n",
       "    <tr>\n",
       "      <th>495</th>\n",
       "      <td>1106</td>\n",
       "      <td>410</td>\n",
       "      <td>267</td>\n",
       "      <td>108</td>\n",
       "      <td>152</td>\n",
       "      <td>962</td>\n",
       "      <td>20.0</td>\n",
       "      <td>16560</td>\n",
       "    </tr>\n",
       "    <tr>\n",
       "      <th>496</th>\n",
       "      <td>99</td>\n",
       "      <td>13</td>\n",
       "      <td>32</td>\n",
       "      <td>3</td>\n",
       "      <td>42</td>\n",
       "      <td>95</td>\n",
       "      <td>4.0</td>\n",
       "      <td>526</td>\n",
       "    </tr>\n",
       "    <tr>\n",
       "      <th>497</th>\n",
       "      <td>56</td>\n",
       "      <td>24</td>\n",
       "      <td>0</td>\n",
       "      <td>9</td>\n",
       "      <td>14</td>\n",
       "      <td>47</td>\n",
       "      <td>6.0</td>\n",
       "      <td>440</td>\n",
       "    </tr>\n",
       "    <tr>\n",
       "      <th>498</th>\n",
       "      <td>213</td>\n",
       "      <td>123</td>\n",
       "      <td>91</td>\n",
       "      <td>28</td>\n",
       "      <td>0</td>\n",
       "      <td>36</td>\n",
       "      <td>7.0</td>\n",
       "      <td>2185</td>\n",
       "    </tr>\n",
       "  </tbody>\n",
       "</table>\n",
       "<p>499 rows × 8 columns</p>\n",
       "</div>"
      ],
      "text/plain": [
       "      AFP  Input  Output  Enquiry  File  Added  Duration  Effort\n",
       "0    1587    774     260      340   128   1502       4.0    7490\n",
       "1     260      9       4        3   193     51      17.0    4150\n",
       "2     152     25      33       28    42    163       9.0     668\n",
       "3     252    151      28        8    39     69       4.0    3238\n",
       "4     292     93       0      194    20      0      13.0    2994\n",
       "..    ...    ...     ...      ...   ...    ...       ...     ...\n",
       "494    51     32       0       16     7      0       3.0     899\n",
       "495  1106    410     267      108   152    962      20.0   16560\n",
       "496    99     13      32        3    42     95       4.0     526\n",
       "497    56     24       0        9    14     47       6.0     440\n",
       "498   213    123      91       28     0     36       7.0    2185\n",
       "\n",
       "[499 rows x 8 columns]"
      ]
     },
     "execution_count": 6,
     "metadata": {},
     "output_type": "execute_result"
    }
   ],
   "source": [
    "df.drop([\"Deleted\", \"Resource\", \"Changed\", \"Interface\", \"AdjFactor\", \"DevType\"], axis=True, inplace=True)\n",
    "df"
   ]
  },
  {
   "cell_type": "code",
   "execution_count": 7,
   "metadata": {},
   "outputs": [],
   "source": [
    "x = df.iloc[:,:-1]\n",
    "y = df.iloc[:,-1] "
   ]
  },
  {
   "cell_type": "code",
   "execution_count": 8,
   "metadata": {},
   "outputs": [
    {
     "name": "stdout",
     "output_type": "stream",
     "text": [
      "Training Score :  0.9069133658901503\n",
      "Test Score :  0.8168676030576274\n"
     ]
    }
   ],
   "source": [
    "x_rftrain, x_rftest, y_rftrain, y_rftest = train_test_split(x, y, test_size=0.20, random_state=20)\n",
    "rfr = RandomForestRegressor(n_estimators=100, )\n",
    "rfr.fit(x_rftrain, y_rftrain)\n",
    "print(\"Training Score : \", rfr.score(x_rftrain, y_rftrain))\n",
    "print(\"Test Score : \", rfr.score(x_rftest, y_rftest))"
   ]
  },
  {
   "cell_type": "code",
   "execution_count": 9,
   "metadata": {},
   "outputs": [],
   "source": [
    "y_pred = rfr.predict(x_rftest)"
   ]
  },
  {
   "cell_type": "code",
   "execution_count": 10,
   "metadata": {},
   "outputs": [
    {
     "data": {
      "text/html": [
       "<div>\n",
       "<style scoped>\n",
       "    .dataframe tbody tr th:only-of-type {\n",
       "        vertical-align: middle;\n",
       "    }\n",
       "\n",
       "    .dataframe tbody tr th {\n",
       "        vertical-align: top;\n",
       "    }\n",
       "\n",
       "    .dataframe thead th {\n",
       "        text-align: right;\n",
       "    }\n",
       "</style>\n",
       "<table border=\"1\" class=\"dataframe\">\n",
       "  <thead>\n",
       "    <tr style=\"text-align: right;\">\n",
       "      <th></th>\n",
       "      <th>Error_Type</th>\n",
       "      <th>RandomForest error Value</th>\n",
       "    </tr>\n",
       "  </thead>\n",
       "  <tbody>\n",
       "    <tr>\n",
       "      <th>0</th>\n",
       "      <td>Mean Absolute Error</td>\n",
       "      <td>1922.450900</td>\n",
       "    </tr>\n",
       "    <tr>\n",
       "      <th>1</th>\n",
       "      <td>Root Mean Square Error</td>\n",
       "      <td>2747.278708</td>\n",
       "    </tr>\n",
       "    <tr>\n",
       "      <th>2</th>\n",
       "      <td>Mean Square Log Error</td>\n",
       "      <td>1.145927</td>\n",
       "    </tr>\n",
       "    <tr>\n",
       "      <th>3</th>\n",
       "      <td>R2_score</td>\n",
       "      <td>0.816868</td>\n",
       "    </tr>\n",
       "  </tbody>\n",
       "</table>\n",
       "</div>"
      ],
      "text/plain": [
       "                Error_Type  RandomForest error Value\n",
       "0     Mean Absolute Error                1922.450900\n",
       "1  Root Mean Square Error                2747.278708\n",
       "2   Mean Square Log Error                   1.145927\n",
       "3                 R2_score                  0.816868"
      ]
     },
     "execution_count": 10,
     "metadata": {},
     "output_type": "execute_result"
    }
   ],
   "source": [
    "error = {\n",
    "    \"Error_Type\": [\"Mean Absolute Error \",\"Root Mean Square Error \",\"Mean Square Log Error \", \"R2_score\"],\n",
    "    \"RandomForest error Value\": [mean_absolute_error(y_rftest, y_pred),np.sqrt(mean_squared_error(y_rftest, y_pred)),mean_squared_log_error(y_rftest, y_pred), r2_score(y_rftest, y_pred)]\n",
    "}\n",
    "error_rfr = pd.DataFrame(error)\n",
    "error_rfr"
   ]
  },
  {
   "cell_type": "code",
   "execution_count": 11,
   "metadata": {},
   "outputs": [],
   "source": [
    "df_new = df"
   ]
  },
  {
   "cell_type": "code",
   "execution_count": 12,
   "metadata": {},
   "outputs": [
    {
     "name": "stdout",
     "output_type": "stream",
     "text": [
      "For column : AFP upper boundary 3664.372022692393, lower boundary -2690.656591830669\n",
      " Range of columns : AFP is from -405.0 to 943.0 rest are outliers !\n",
      "For column : Input upper boundary 1076.3407674594325, lower boundary -704.0602063371881\n",
      " Range of columns : Input is from -161.25 to 340.75 rest are outliers !\n",
      "For column : Output upper boundary 462.16331140469896, lower boundary -263.31261000189335\n",
      " Range of columns : Output is from -154.0 to 294.0 rest are outliers !\n",
      "For column : Enquiry upper boundary 389.19312216414494, lower boundary -236.10694981945554\n",
      " Range of columns : Enquiry is from -118.5 to 213.5 rest are outliers !\n",
      "For column : File upper boundary 305.73228094777176, lower boundary -162.67817273133892\n",
      " Range of columns : File is from -122.5 to 241.5 rest are outliers !\n",
      "For column : Added upper boundary 559.713960440238, lower boundary -249.15283819574904\n",
      " Range of columns : Added is from -221.5 to 474.5 rest are outliers !\n",
      "For column : Duration upper boundary 380.9487410314891, lower boundary -265.5523482459179\n",
      " Range of columns : Duration is from -12.5 to 31.5 rest are outliers !\n",
      "For column : Effort upper boundary 8889.064477487667, lower boundary -5480.823996525744\n",
      " Range of columns : Effort is from -3043.5 to 5648.5 rest are outliers !\n"
     ]
    }
   ],
   "source": [
    "for i in df_new.columns:\n",
    "    upper_boundary = df_new[i].mean()  + 3*df_new[i].std()\n",
    "    lower_boundary = df_new[i].mean()  - 3*df_new[i].std()\n",
    "    print(f\"For column : {i} upper boundary {upper_boundary}, lower boundary {lower_boundary}\")\n",
    "    IQR = df_new[i].quantile(0.75) - df[i].quantile(0.25)\n",
    "    lower_bridge = df_new[i].quantile(0.25) - (IQR*1.5)\n",
    "    upper_bridge = df_new[i].quantile(0.75) + (IQR*1.5)\n",
    "    print(f\" Range of columns : {i} is from {lower_bridge} to {upper_bridge} rest are outliers !\")\n",
    "    df_new.loc[df_new[i] >= upper_bridge] = upper_bridge"
   ]
  },
  {
   "cell_type": "code",
   "execution_count": 13,
   "metadata": {},
   "outputs": [],
   "source": [
    "x_new = df_new.iloc[:,:-1]\n",
    "y_new = df_new.iloc[:, -1]"
   ]
  },
  {
   "cell_type": "code",
   "execution_count": 14,
   "metadata": {},
   "outputs": [
    {
     "name": "stdout",
     "output_type": "stream",
     "text": [
      "-----------------------Random State 1---------------------------\n",
      "Training data of independent col :  (349, 7)\n",
      "Training data of dependent col :  (349,)\n",
      "Test data of independent col :  (150, 7)\n",
      "Test data of dependent col :  (150,)\n",
      "Training Score :  0.6389332274754874\n",
      "Test Score :  0.5063569738779428\n",
      "\n",
      "\n",
      "\n",
      "\n",
      "-----------------------Random State 2---------------------------\n",
      "Training data of independent col :  (349, 7)\n",
      "Training data of dependent col :  (349,)\n",
      "Test data of independent col :  (150, 7)\n",
      "Test data of dependent col :  (150,)\n",
      "Training Score :  0.5908016914963404\n",
      "Test Score :  0.6391388226693966\n",
      "\n",
      "\n",
      "\n",
      "\n",
      "-----------------------Random State 3---------------------------\n",
      "Training data of independent col :  (349, 7)\n",
      "Training data of dependent col :  (349,)\n",
      "Test data of independent col :  (150, 7)\n",
      "Test data of dependent col :  (150,)\n",
      "Training Score :  0.6022141822288731\n",
      "Test Score :  0.6235021161272196\n",
      "\n",
      "\n",
      "\n",
      "\n",
      "-----------------------Random State 4---------------------------\n",
      "Training data of independent col :  (349, 7)\n",
      "Training data of dependent col :  (349,)\n",
      "Test data of independent col :  (150, 7)\n",
      "Test data of dependent col :  (150,)\n",
      "Training Score :  0.6565346182503697\n",
      "Test Score :  0.4836584236795508\n",
      "\n",
      "\n",
      "\n",
      "\n",
      "-----------------------Random State 5---------------------------\n",
      "Training data of independent col :  (349, 7)\n",
      "Training data of dependent col :  (349,)\n",
      "Test data of independent col :  (150, 7)\n",
      "Test data of dependent col :  (150,)\n",
      "Training Score :  0.6173543924504551\n",
      "Test Score :  0.5578119086185345\n",
      "\n",
      "\n",
      "\n",
      "\n",
      "-----------------------Random State 6---------------------------\n",
      "Training data of independent col :  (349, 7)\n",
      "Training data of dependent col :  (349,)\n",
      "Test data of independent col :  (150, 7)\n",
      "Test data of dependent col :  (150,)\n",
      "Training Score :  0.5915335418335708\n",
      "Test Score :  0.6415948256135926\n",
      "\n",
      "\n",
      "\n",
      "\n",
      "-----------------------Random State 7---------------------------\n",
      "Training data of independent col :  (349, 7)\n",
      "Training data of dependent col :  (349,)\n",
      "Test data of independent col :  (150, 7)\n",
      "Test data of dependent col :  (150,)\n",
      "Training Score :  0.6301839058583065\n",
      "Test Score :  0.5427404045934912\n",
      "\n",
      "\n",
      "\n",
      "\n",
      "-----------------------Random State 8---------------------------\n",
      "Training data of independent col :  (349, 7)\n",
      "Training data of dependent col :  (349,)\n",
      "Test data of independent col :  (150, 7)\n",
      "Test data of dependent col :  (150,)\n",
      "Training Score :  0.6082987947446651\n",
      "Test Score :  0.5997383929884104\n",
      "\n",
      "\n",
      "\n",
      "\n",
      "-----------------------Random State 9---------------------------\n",
      "Training data of independent col :  (349, 7)\n",
      "Training data of dependent col :  (349,)\n",
      "Test data of independent col :  (150, 7)\n",
      "Test data of dependent col :  (150,)\n",
      "Training Score :  0.6057852479323194\n",
      "Test Score :  0.6105413105305372\n",
      "\n",
      "\n",
      "\n",
      "\n",
      "-----------------------Random State 10---------------------------\n",
      "Training data of independent col :  (349, 7)\n",
      "Training data of dependent col :  (349,)\n",
      "Test data of independent col :  (150, 7)\n",
      "Test data of dependent col :  (150,)\n",
      "Training Score :  0.5910169916340801\n",
      "Test Score :  0.6360095322014686\n",
      "\n",
      "\n",
      "\n",
      "\n",
      "-----------------------Random State 11---------------------------\n",
      "Training data of independent col :  (349, 7)\n",
      "Training data of dependent col :  (349,)\n",
      "Test data of independent col :  (150, 7)\n",
      "Test data of dependent col :  (150,)\n",
      "Training Score :  0.5731869223980305\n",
      "Test Score :  0.6593661882666536\n",
      "\n",
      "\n",
      "\n",
      "\n",
      "-----------------------Random State 12---------------------------\n",
      "Training data of independent col :  (349, 7)\n",
      "Training data of dependent col :  (349,)\n",
      "Test data of independent col :  (150, 7)\n",
      "Test data of dependent col :  (150,)\n",
      "Training Score :  0.6299569568198581\n",
      "Test Score :  0.5370933841080578\n",
      "\n",
      "\n",
      "\n",
      "\n",
      "-----------------------Random State 13---------------------------\n",
      "Training data of independent col :  (349, 7)\n",
      "Training data of dependent col :  (349,)\n",
      "Test data of independent col :  (150, 7)\n",
      "Test data of dependent col :  (150,)\n",
      "Training Score :  0.6344624945928743\n",
      "Test Score :  0.5160741037534566\n",
      "\n",
      "\n",
      "\n",
      "\n",
      "-----------------------Random State 14---------------------------\n",
      "Training data of independent col :  (349, 7)\n",
      "Training data of dependent col :  (349,)\n",
      "Test data of independent col :  (150, 7)\n",
      "Test data of dependent col :  (150,)\n",
      "Training Score :  0.5912056742375461\n",
      "Test Score :  0.6337992003524275\n",
      "\n",
      "\n",
      "\n",
      "\n",
      "-----------------------Random State 15---------------------------\n",
      "Training data of independent col :  (349, 7)\n",
      "Training data of dependent col :  (349,)\n",
      "Test data of independent col :  (150, 7)\n",
      "Test data of dependent col :  (150,)\n",
      "Training Score :  0.6087303093517792\n",
      "Test Score :  0.5902390948396468\n",
      "\n",
      "\n",
      "\n",
      "\n",
      "-----------------------Random State 16---------------------------\n",
      "Training data of independent col :  (349, 7)\n",
      "Training data of dependent col :  (349,)\n",
      "Test data of independent col :  (150, 7)\n",
      "Test data of dependent col :  (150,)\n",
      "Training Score :  0.5943544289159806\n",
      "Test Score :  0.617934676659311\n",
      "\n",
      "\n",
      "\n",
      "\n",
      "-----------------------Random State 17---------------------------\n",
      "Training data of independent col :  (349, 7)\n",
      "Training data of dependent col :  (349,)\n",
      "Test data of independent col :  (150, 7)\n",
      "Test data of dependent col :  (150,)\n",
      "Training Score :  0.6494716855404887\n",
      "Test Score :  0.4780201726725062\n",
      "\n",
      "\n",
      "\n",
      "\n",
      "-----------------------Random State 18---------------------------\n",
      "Training data of independent col :  (349, 7)\n",
      "Training data of dependent col :  (349,)\n",
      "Test data of independent col :  (150, 7)\n",
      "Test data of dependent col :  (150,)\n",
      "Training Score :  0.5732161033599419\n",
      "Test Score :  0.6621631953096232\n",
      "\n",
      "\n",
      "\n",
      "\n",
      "-----------------------Random State 19---------------------------\n",
      "Training data of independent col :  (349, 7)\n",
      "Training data of dependent col :  (349,)\n",
      "Test data of independent col :  (150, 7)\n",
      "Test data of dependent col :  (150,)\n",
      "Training Score :  0.566241305217579\n",
      "Test Score :  0.679486887961936\n",
      "\n",
      "\n",
      "\n",
      "\n",
      "-----------------------Random State 20---------------------------\n",
      "Training data of independent col :  (349, 7)\n",
      "Training data of dependent col :  (349,)\n",
      "Test data of independent col :  (150, 7)\n",
      "Test data of dependent col :  (150,)\n",
      "Training Score :  0.6406678465626185\n",
      "Test Score :  0.5256602044095697\n",
      "\n",
      "\n",
      "\n",
      "\n",
      "-----------------------Random State 21---------------------------\n",
      "Training data of independent col :  (349, 7)\n",
      "Training data of dependent col :  (349,)\n",
      "Test data of independent col :  (150, 7)\n",
      "Test data of dependent col :  (150,)\n",
      "Training Score :  0.616869095563674\n",
      "Test Score :  0.5905434117740611\n",
      "\n",
      "\n",
      "\n",
      "\n",
      "-----------------------Random State 22---------------------------\n",
      "Training data of independent col :  (349, 7)\n",
      "Training data of dependent col :  (349,)\n",
      "Test data of independent col :  (150, 7)\n",
      "Test data of dependent col :  (150,)\n",
      "Training Score :  0.6182891124213249\n",
      "Test Score :  0.585659671161286\n",
      "\n",
      "\n",
      "\n",
      "\n",
      "-----------------------Random State 23---------------------------\n",
      "Training data of independent col :  (349, 7)\n",
      "Training data of dependent col :  (349,)\n",
      "Test data of independent col :  (150, 7)\n",
      "Test data of dependent col :  (150,)\n",
      "Training Score :  0.6075583461511924\n",
      "Test Score :  0.6063516685959631\n",
      "\n",
      "\n",
      "\n",
      "\n",
      "-----------------------Random State 24---------------------------\n",
      "Training data of independent col :  (349, 7)\n",
      "Training data of dependent col :  (349,)\n",
      "Test data of independent col :  (150, 7)\n",
      "Test data of dependent col :  (150,)\n",
      "Training Score :  0.5951992298767941\n",
      "Test Score :  0.6409034113083794\n",
      "\n",
      "\n",
      "\n",
      "\n",
      "-----------------------Random State 25---------------------------\n",
      "Training data of independent col :  (349, 7)\n",
      "Training data of dependent col :  (349,)\n",
      "Test data of independent col :  (150, 7)\n",
      "Test data of dependent col :  (150,)\n",
      "Training Score :  0.6194541703147831\n",
      "Test Score :  0.5728832048685926\n",
      "\n",
      "\n",
      "\n",
      "\n",
      "-----------------------Random State 26---------------------------\n",
      "Training data of independent col :  (349, 7)\n",
      "Training data of dependent col :  (349,)\n",
      "Test data of independent col :  (150, 7)\n",
      "Test data of dependent col :  (150,)\n",
      "Training Score :  0.5998880725287148\n",
      "Test Score :  0.605237413747913\n",
      "\n",
      "\n",
      "\n",
      "\n",
      "-----------------------Random State 27---------------------------\n",
      "Training data of independent col :  (349, 7)\n",
      "Training data of dependent col :  (349,)\n",
      "Test data of independent col :  (150, 7)\n",
      "Test data of dependent col :  (150,)\n",
      "Training Score :  0.5957694270075646\n",
      "Test Score :  0.6376039579570981\n",
      "\n",
      "\n",
      "\n",
      "\n",
      "-----------------------Random State 28---------------------------\n",
      "Training data of independent col :  (349, 7)\n",
      "Training data of dependent col :  (349,)\n",
      "Test data of independent col :  (150, 7)\n",
      "Test data of dependent col :  (150,)\n",
      "Training Score :  0.6140749572674427\n",
      "Test Score :  0.593334955244484\n",
      "\n",
      "\n",
      "\n",
      "\n",
      "-----------------------Random State 29---------------------------\n",
      "Training data of independent col :  (349, 7)\n",
      "Training data of dependent col :  (349,)\n",
      "Test data of independent col :  (150, 7)\n",
      "Test data of dependent col :  (150,)\n",
      "Training Score :  0.6053180419046749\n",
      "Test Score :  0.5723130779341231\n",
      "\n",
      "\n",
      "\n",
      "\n",
      "-----------------------Random State 30---------------------------\n",
      "Training data of independent col :  (349, 7)\n",
      "Training data of dependent col :  (349,)\n",
      "Test data of independent col :  (150, 7)\n",
      "Test data of dependent col :  (150,)\n",
      "Training Score :  0.6281596628412703\n",
      "Test Score :  0.5500824748305766\n",
      "\n",
      "\n",
      "\n",
      "\n",
      "-----------------------Random State 31---------------------------\n",
      "Training data of independent col :  (349, 7)\n",
      "Training data of dependent col :  (349,)\n",
      "Test data of independent col :  (150, 7)\n",
      "Test data of dependent col :  (150,)\n",
      "Training Score :  0.5603944059965791\n",
      "Test Score :  0.6784245133082695\n",
      "\n",
      "\n",
      "\n",
      "\n",
      "-----------------------Random State 32---------------------------\n",
      "Training data of independent col :  (349, 7)\n",
      "Training data of dependent col :  (349,)\n",
      "Test data of independent col :  (150, 7)\n",
      "Test data of dependent col :  (150,)\n",
      "Training Score :  0.5575777336637651\n",
      "Test Score :  0.7118258568546747\n",
      "\n",
      "\n",
      "\n",
      "\n",
      "-----------------------Random State 33---------------------------\n",
      "Training data of independent col :  (349, 7)\n",
      "Training data of dependent col :  (349,)\n",
      "Test data of independent col :  (150, 7)\n",
      "Test data of dependent col :  (150,)\n",
      "Training Score :  0.6305622352561706\n",
      "Test Score :  0.5339826264262119\n",
      "\n",
      "\n",
      "\n",
      "\n",
      "-----------------------Random State 34---------------------------\n",
      "Training data of independent col :  (349, 7)\n",
      "Training data of dependent col :  (349,)\n",
      "Test data of independent col :  (150, 7)\n",
      "Test data of dependent col :  (150,)\n",
      "Training Score :  0.6240774446076991\n",
      "Test Score :  0.560755717524784\n",
      "\n",
      "\n",
      "\n",
      "\n",
      "-----------------------Random State 35---------------------------\n",
      "Training data of independent col :  (349, 7)\n",
      "Training data of dependent col :  (349,)\n",
      "Test data of independent col :  (150, 7)\n",
      "Test data of dependent col :  (150,)\n",
      "Training Score :  0.5906401179366262\n",
      "Test Score :  0.6434755958395537\n",
      "\n",
      "\n",
      "\n",
      "\n",
      "-----------------------Random State 36---------------------------\n",
      "Training data of independent col :  (349, 7)\n",
      "Training data of dependent col :  (349,)\n",
      "Test data of independent col :  (150, 7)\n",
      "Test data of dependent col :  (150,)\n",
      "Training Score :  0.618734934765587\n",
      "Test Score :  0.5703773949785674\n",
      "\n",
      "\n",
      "\n",
      "\n",
      "-----------------------Random State 37---------------------------\n",
      "Training data of independent col :  (349, 7)\n",
      "Training data of dependent col :  (349,)\n",
      "Test data of independent col :  (150, 7)\n",
      "Test data of dependent col :  (150,)\n",
      "Training Score :  0.6280001495849927\n",
      "Test Score :  0.5655097196512446\n",
      "\n",
      "\n",
      "\n",
      "\n",
      "-----------------------Random State 38---------------------------\n",
      "Training data of independent col :  (349, 7)\n",
      "Training data of dependent col :  (349,)\n",
      "Test data of independent col :  (150, 7)\n",
      "Test data of dependent col :  (150,)\n",
      "Training Score :  0.6423878114293107\n",
      "Test Score :  0.5346448595341076\n",
      "\n",
      "\n",
      "\n",
      "\n",
      "-----------------------Random State 39---------------------------\n",
      "Training data of independent col :  (349, 7)\n",
      "Training data of dependent col :  (349,)\n",
      "Test data of independent col :  (150, 7)\n",
      "Test data of dependent col :  (150,)\n",
      "Training Score :  0.646059543853351\n",
      "Test Score :  0.48621976652744403\n",
      "\n",
      "\n",
      "\n",
      "\n",
      "-----------------------Random State 40---------------------------\n",
      "Training data of independent col :  (349, 7)\n",
      "Training data of dependent col :  (349,)\n",
      "Test data of independent col :  (150, 7)\n",
      "Test data of dependent col :  (150,)\n",
      "Training Score :  0.6202445775448862\n",
      "Test Score :  0.5745374382787283\n",
      "\n",
      "\n",
      "\n",
      "\n",
      "-----------------------Random State 41---------------------------\n",
      "Training data of independent col :  (349, 7)\n",
      "Training data of dependent col :  (349,)\n",
      "Test data of independent col :  (150, 7)\n",
      "Test data of dependent col :  (150,)\n",
      "Training Score :  0.5888346801012334\n",
      "Test Score :  0.6268263355929033\n",
      "\n",
      "\n",
      "\n",
      "\n"
     ]
    }
   ],
   "source": [
    "lr_list_scaled=[]\n",
    "for i in range(1, 42):\n",
    "    print(f\"-----------------------Random State {i}---------------------------\")\n",
    "    x_train, x_test, y_train, y_test = train_test_split(x_new, y_new, test_size=0.30, random_state=i)\n",
    "    print(\"Training data of independent col : \", x_train.shape)\n",
    "    print(\"Training data of dependent col : \", y_train.shape)\n",
    "    print(\"Test data of independent col : \", x_test.shape)\n",
    "    print(\"Test data of dependent col : \", y_test.shape)\n",
    "    lr = LinearRegression()\n",
    "    lr.fit(x_train, y_train)\n",
    "    print(\"Training Score : \", lr.score(x_train, y_train))\n",
    "    print(\"Test Score : \", lr.score(x_test, y_test))\n",
    "    lr_list_scaled.append(lr.score(x_test, y_test))\n",
    "    print(\"\\n\\n\\n\")"
   ]
  },
  {
   "cell_type": "code",
   "execution_count": 15,
   "metadata": {},
   "outputs": [
    {
     "data": {
      "text/plain": [
       "0.7118258568546747"
      ]
     },
     "execution_count": 15,
     "metadata": {},
     "output_type": "execute_result"
    }
   ],
   "source": [
    "max(lr_list_scaled)"
   ]
  },
  {
   "cell_type": "code",
   "execution_count": 16,
   "metadata": {},
   "outputs": [
    {
     "name": "stdout",
     "output_type": "stream",
     "text": [
      "Training Score :  0.5755408060914224\n",
      "Test Score :  0.7136839127491039\n"
     ]
    }
   ],
   "source": [
    "x_lrtrain, x_lrtest, y_lrtrain, y_lrtest = train_test_split(x_new, y_new, test_size=0.20, random_state=32)\n",
    "lr = LinearRegression()\n",
    "lr.fit(x_lrtrain, y_lrtrain)\n",
    "print(\"Training Score : \", lr.score(x_lrtrain, y_lrtrain))\n",
    "print(\"Test Score : \", lr.score(x_lrtest, y_lrtest))"
   ]
  },
  {
   "cell_type": "code",
   "execution_count": 17,
   "metadata": {},
   "outputs": [
    {
     "data": {
      "text/html": [
       "<div>\n",
       "<style scoped>\n",
       "    .dataframe tbody tr th:only-of-type {\n",
       "        vertical-align: middle;\n",
       "    }\n",
       "\n",
       "    .dataframe tbody tr th {\n",
       "        vertical-align: top;\n",
       "    }\n",
       "\n",
       "    .dataframe thead th {\n",
       "        text-align: right;\n",
       "    }\n",
       "</style>\n",
       "<table border=\"1\" class=\"dataframe\">\n",
       "  <thead>\n",
       "    <tr style=\"text-align: right;\">\n",
       "      <th></th>\n",
       "      <th>Model</th>\n",
       "      <th>Score</th>\n",
       "    </tr>\n",
       "  </thead>\n",
       "  <tbody>\n",
       "    <tr>\n",
       "      <th>0</th>\n",
       "      <td>RandomForestRegression</td>\n",
       "      <td>0.816868</td>\n",
       "    </tr>\n",
       "    <tr>\n",
       "      <th>1</th>\n",
       "      <td>LinearRegression</td>\n",
       "      <td>0.713684</td>\n",
       "    </tr>\n",
       "  </tbody>\n",
       "</table>\n",
       "</div>"
      ],
      "text/plain": [
       "                    Model     Score\n",
       "0  RandomForestRegression  0.816868\n",
       "1        LinearRegression  0.713684"
      ]
     },
     "execution_count": 17,
     "metadata": {},
     "output_type": "execute_result"
    }
   ],
   "source": [
    "model_acc = pd.DataFrame({\"Model\": [\"RandomForestRegression\", \"LinearRegression\"],\n",
    "'Score': [rfr.score(x_rftest, y_rftest), lr.score(x_lrtest, y_lrtest)]\n",
    "\n",
    "})\n",
    "model_acc"
   ]
  },
  {
   "cell_type": "code",
   "execution_count": 18,
   "metadata": {},
   "outputs": [
    {
     "data": {
      "application/vnd.plotly.v1+json": {
       "config": {
        "plotlyServerURL": "https://plot.ly"
       },
       "data": [
        {
         "alignmentgroup": "True",
         "bingroup": "x",
         "histfunc": "sum",
         "hovertemplate": "Model=%{x}<br>sum of Score=%{y}<extra></extra>",
         "legendgroup": "RandomForestRegression",
         "marker": {
          "color": "#636efa",
          "pattern": {
           "shape": ""
          }
         },
         "name": "RandomForestRegression",
         "offsetgroup": "RandomForestRegression",
         "orientation": "v",
         "showlegend": true,
         "type": "histogram",
         "x": [
          "RandomForestRegression"
         ],
         "xaxis": "x",
         "y": [
          0.8168676030576274
         ],
         "yaxis": "y"
        },
        {
         "alignmentgroup": "True",
         "bingroup": "x",
         "histfunc": "sum",
         "hovertemplate": "Model=%{x}<br>sum of Score=%{y}<extra></extra>",
         "legendgroup": "LinearRegression",
         "marker": {
          "color": "#EF553B",
          "pattern": {
           "shape": ""
          }
         },
         "name": "LinearRegression",
         "offsetgroup": "LinearRegression",
         "orientation": "v",
         "showlegend": true,
         "type": "histogram",
         "x": [
          "LinearRegression"
         ],
         "xaxis": "x",
         "y": [
          0.7136839127491039
         ],
         "yaxis": "y"
        }
       ],
       "layout": {
        "barmode": "relative",
        "legend": {
         "title": {
          "text": "Model"
         },
         "tracegroupgap": 0
        },
        "margin": {
         "t": 60
        },
        "template": {
         "data": {
          "bar": [
           {
            "error_x": {
             "color": "#2a3f5f"
            },
            "error_y": {
             "color": "#2a3f5f"
            },
            "marker": {
             "line": {
              "color": "#E5ECF6",
              "width": 0.5
             },
             "pattern": {
              "fillmode": "overlay",
              "size": 10,
              "solidity": 0.2
             }
            },
            "type": "bar"
           }
          ],
          "barpolar": [
           {
            "marker": {
             "line": {
              "color": "#E5ECF6",
              "width": 0.5
             },
             "pattern": {
              "fillmode": "overlay",
              "size": 10,
              "solidity": 0.2
             }
            },
            "type": "barpolar"
           }
          ],
          "carpet": [
           {
            "aaxis": {
             "endlinecolor": "#2a3f5f",
             "gridcolor": "white",
             "linecolor": "white",
             "minorgridcolor": "white",
             "startlinecolor": "#2a3f5f"
            },
            "baxis": {
             "endlinecolor": "#2a3f5f",
             "gridcolor": "white",
             "linecolor": "white",
             "minorgridcolor": "white",
             "startlinecolor": "#2a3f5f"
            },
            "type": "carpet"
           }
          ],
          "choropleth": [
           {
            "colorbar": {
             "outlinewidth": 0,
             "ticks": ""
            },
            "type": "choropleth"
           }
          ],
          "contour": [
           {
            "colorbar": {
             "outlinewidth": 0,
             "ticks": ""
            },
            "colorscale": [
             [
              0,
              "#0d0887"
             ],
             [
              0.1111111111111111,
              "#46039f"
             ],
             [
              0.2222222222222222,
              "#7201a8"
             ],
             [
              0.3333333333333333,
              "#9c179e"
             ],
             [
              0.4444444444444444,
              "#bd3786"
             ],
             [
              0.5555555555555556,
              "#d8576b"
             ],
             [
              0.6666666666666666,
              "#ed7953"
             ],
             [
              0.7777777777777778,
              "#fb9f3a"
             ],
             [
              0.8888888888888888,
              "#fdca26"
             ],
             [
              1,
              "#f0f921"
             ]
            ],
            "type": "contour"
           }
          ],
          "contourcarpet": [
           {
            "colorbar": {
             "outlinewidth": 0,
             "ticks": ""
            },
            "type": "contourcarpet"
           }
          ],
          "heatmap": [
           {
            "colorbar": {
             "outlinewidth": 0,
             "ticks": ""
            },
            "colorscale": [
             [
              0,
              "#0d0887"
             ],
             [
              0.1111111111111111,
              "#46039f"
             ],
             [
              0.2222222222222222,
              "#7201a8"
             ],
             [
              0.3333333333333333,
              "#9c179e"
             ],
             [
              0.4444444444444444,
              "#bd3786"
             ],
             [
              0.5555555555555556,
              "#d8576b"
             ],
             [
              0.6666666666666666,
              "#ed7953"
             ],
             [
              0.7777777777777778,
              "#fb9f3a"
             ],
             [
              0.8888888888888888,
              "#fdca26"
             ],
             [
              1,
              "#f0f921"
             ]
            ],
            "type": "heatmap"
           }
          ],
          "heatmapgl": [
           {
            "colorbar": {
             "outlinewidth": 0,
             "ticks": ""
            },
            "colorscale": [
             [
              0,
              "#0d0887"
             ],
             [
              0.1111111111111111,
              "#46039f"
             ],
             [
              0.2222222222222222,
              "#7201a8"
             ],
             [
              0.3333333333333333,
              "#9c179e"
             ],
             [
              0.4444444444444444,
              "#bd3786"
             ],
             [
              0.5555555555555556,
              "#d8576b"
             ],
             [
              0.6666666666666666,
              "#ed7953"
             ],
             [
              0.7777777777777778,
              "#fb9f3a"
             ],
             [
              0.8888888888888888,
              "#fdca26"
             ],
             [
              1,
              "#f0f921"
             ]
            ],
            "type": "heatmapgl"
           }
          ],
          "histogram": [
           {
            "marker": {
             "pattern": {
              "fillmode": "overlay",
              "size": 10,
              "solidity": 0.2
             }
            },
            "type": "histogram"
           }
          ],
          "histogram2d": [
           {
            "colorbar": {
             "outlinewidth": 0,
             "ticks": ""
            },
            "colorscale": [
             [
              0,
              "#0d0887"
             ],
             [
              0.1111111111111111,
              "#46039f"
             ],
             [
              0.2222222222222222,
              "#7201a8"
             ],
             [
              0.3333333333333333,
              "#9c179e"
             ],
             [
              0.4444444444444444,
              "#bd3786"
             ],
             [
              0.5555555555555556,
              "#d8576b"
             ],
             [
              0.6666666666666666,
              "#ed7953"
             ],
             [
              0.7777777777777778,
              "#fb9f3a"
             ],
             [
              0.8888888888888888,
              "#fdca26"
             ],
             [
              1,
              "#f0f921"
             ]
            ],
            "type": "histogram2d"
           }
          ],
          "histogram2dcontour": [
           {
            "colorbar": {
             "outlinewidth": 0,
             "ticks": ""
            },
            "colorscale": [
             [
              0,
              "#0d0887"
             ],
             [
              0.1111111111111111,
              "#46039f"
             ],
             [
              0.2222222222222222,
              "#7201a8"
             ],
             [
              0.3333333333333333,
              "#9c179e"
             ],
             [
              0.4444444444444444,
              "#bd3786"
             ],
             [
              0.5555555555555556,
              "#d8576b"
             ],
             [
              0.6666666666666666,
              "#ed7953"
             ],
             [
              0.7777777777777778,
              "#fb9f3a"
             ],
             [
              0.8888888888888888,
              "#fdca26"
             ],
             [
              1,
              "#f0f921"
             ]
            ],
            "type": "histogram2dcontour"
           }
          ],
          "mesh3d": [
           {
            "colorbar": {
             "outlinewidth": 0,
             "ticks": ""
            },
            "type": "mesh3d"
           }
          ],
          "parcoords": [
           {
            "line": {
             "colorbar": {
              "outlinewidth": 0,
              "ticks": ""
             }
            },
            "type": "parcoords"
           }
          ],
          "pie": [
           {
            "automargin": true,
            "type": "pie"
           }
          ],
          "scatter": [
           {
            "fillpattern": {
             "fillmode": "overlay",
             "size": 10,
             "solidity": 0.2
            },
            "type": "scatter"
           }
          ],
          "scatter3d": [
           {
            "line": {
             "colorbar": {
              "outlinewidth": 0,
              "ticks": ""
             }
            },
            "marker": {
             "colorbar": {
              "outlinewidth": 0,
              "ticks": ""
             }
            },
            "type": "scatter3d"
           }
          ],
          "scattercarpet": [
           {
            "marker": {
             "colorbar": {
              "outlinewidth": 0,
              "ticks": ""
             }
            },
            "type": "scattercarpet"
           }
          ],
          "scattergeo": [
           {
            "marker": {
             "colorbar": {
              "outlinewidth": 0,
              "ticks": ""
             }
            },
            "type": "scattergeo"
           }
          ],
          "scattergl": [
           {
            "marker": {
             "colorbar": {
              "outlinewidth": 0,
              "ticks": ""
             }
            },
            "type": "scattergl"
           }
          ],
          "scattermapbox": [
           {
            "marker": {
             "colorbar": {
              "outlinewidth": 0,
              "ticks": ""
             }
            },
            "type": "scattermapbox"
           }
          ],
          "scatterpolar": [
           {
            "marker": {
             "colorbar": {
              "outlinewidth": 0,
              "ticks": ""
             }
            },
            "type": "scatterpolar"
           }
          ],
          "scatterpolargl": [
           {
            "marker": {
             "colorbar": {
              "outlinewidth": 0,
              "ticks": ""
             }
            },
            "type": "scatterpolargl"
           }
          ],
          "scatterternary": [
           {
            "marker": {
             "colorbar": {
              "outlinewidth": 0,
              "ticks": ""
             }
            },
            "type": "scatterternary"
           }
          ],
          "surface": [
           {
            "colorbar": {
             "outlinewidth": 0,
             "ticks": ""
            },
            "colorscale": [
             [
              0,
              "#0d0887"
             ],
             [
              0.1111111111111111,
              "#46039f"
             ],
             [
              0.2222222222222222,
              "#7201a8"
             ],
             [
              0.3333333333333333,
              "#9c179e"
             ],
             [
              0.4444444444444444,
              "#bd3786"
             ],
             [
              0.5555555555555556,
              "#d8576b"
             ],
             [
              0.6666666666666666,
              "#ed7953"
             ],
             [
              0.7777777777777778,
              "#fb9f3a"
             ],
             [
              0.8888888888888888,
              "#fdca26"
             ],
             [
              1,
              "#f0f921"
             ]
            ],
            "type": "surface"
           }
          ],
          "table": [
           {
            "cells": {
             "fill": {
              "color": "#EBF0F8"
             },
             "line": {
              "color": "white"
             }
            },
            "header": {
             "fill": {
              "color": "#C8D4E3"
             },
             "line": {
              "color": "white"
             }
            },
            "type": "table"
           }
          ]
         },
         "layout": {
          "annotationdefaults": {
           "arrowcolor": "#2a3f5f",
           "arrowhead": 0,
           "arrowwidth": 1
          },
          "autotypenumbers": "strict",
          "coloraxis": {
           "colorbar": {
            "outlinewidth": 0,
            "ticks": ""
           }
          },
          "colorscale": {
           "diverging": [
            [
             0,
             "#8e0152"
            ],
            [
             0.1,
             "#c51b7d"
            ],
            [
             0.2,
             "#de77ae"
            ],
            [
             0.3,
             "#f1b6da"
            ],
            [
             0.4,
             "#fde0ef"
            ],
            [
             0.5,
             "#f7f7f7"
            ],
            [
             0.6,
             "#e6f5d0"
            ],
            [
             0.7,
             "#b8e186"
            ],
            [
             0.8,
             "#7fbc41"
            ],
            [
             0.9,
             "#4d9221"
            ],
            [
             1,
             "#276419"
            ]
           ],
           "sequential": [
            [
             0,
             "#0d0887"
            ],
            [
             0.1111111111111111,
             "#46039f"
            ],
            [
             0.2222222222222222,
             "#7201a8"
            ],
            [
             0.3333333333333333,
             "#9c179e"
            ],
            [
             0.4444444444444444,
             "#bd3786"
            ],
            [
             0.5555555555555556,
             "#d8576b"
            ],
            [
             0.6666666666666666,
             "#ed7953"
            ],
            [
             0.7777777777777778,
             "#fb9f3a"
            ],
            [
             0.8888888888888888,
             "#fdca26"
            ],
            [
             1,
             "#f0f921"
            ]
           ],
           "sequentialminus": [
            [
             0,
             "#0d0887"
            ],
            [
             0.1111111111111111,
             "#46039f"
            ],
            [
             0.2222222222222222,
             "#7201a8"
            ],
            [
             0.3333333333333333,
             "#9c179e"
            ],
            [
             0.4444444444444444,
             "#bd3786"
            ],
            [
             0.5555555555555556,
             "#d8576b"
            ],
            [
             0.6666666666666666,
             "#ed7953"
            ],
            [
             0.7777777777777778,
             "#fb9f3a"
            ],
            [
             0.8888888888888888,
             "#fdca26"
            ],
            [
             1,
             "#f0f921"
            ]
           ]
          },
          "colorway": [
           "#636efa",
           "#EF553B",
           "#00cc96",
           "#ab63fa",
           "#FFA15A",
           "#19d3f3",
           "#FF6692",
           "#B6E880",
           "#FF97FF",
           "#FECB52"
          ],
          "font": {
           "color": "#2a3f5f"
          },
          "geo": {
           "bgcolor": "white",
           "lakecolor": "white",
           "landcolor": "#E5ECF6",
           "showlakes": true,
           "showland": true,
           "subunitcolor": "white"
          },
          "hoverlabel": {
           "align": "left"
          },
          "hovermode": "closest",
          "mapbox": {
           "style": "light"
          },
          "paper_bgcolor": "white",
          "plot_bgcolor": "#E5ECF6",
          "polar": {
           "angularaxis": {
            "gridcolor": "white",
            "linecolor": "white",
            "ticks": ""
           },
           "bgcolor": "#E5ECF6",
           "radialaxis": {
            "gridcolor": "white",
            "linecolor": "white",
            "ticks": ""
           }
          },
          "scene": {
           "xaxis": {
            "backgroundcolor": "#E5ECF6",
            "gridcolor": "white",
            "gridwidth": 2,
            "linecolor": "white",
            "showbackground": true,
            "ticks": "",
            "zerolinecolor": "white"
           },
           "yaxis": {
            "backgroundcolor": "#E5ECF6",
            "gridcolor": "white",
            "gridwidth": 2,
            "linecolor": "white",
            "showbackground": true,
            "ticks": "",
            "zerolinecolor": "white"
           },
           "zaxis": {
            "backgroundcolor": "#E5ECF6",
            "gridcolor": "white",
            "gridwidth": 2,
            "linecolor": "white",
            "showbackground": true,
            "ticks": "",
            "zerolinecolor": "white"
           }
          },
          "shapedefaults": {
           "line": {
            "color": "#2a3f5f"
           }
          },
          "ternary": {
           "aaxis": {
            "gridcolor": "white",
            "linecolor": "white",
            "ticks": ""
           },
           "baxis": {
            "gridcolor": "white",
            "linecolor": "white",
            "ticks": ""
           },
           "bgcolor": "#E5ECF6",
           "caxis": {
            "gridcolor": "white",
            "linecolor": "white",
            "ticks": ""
           }
          },
          "title": {
           "x": 0.05
          },
          "xaxis": {
           "automargin": true,
           "gridcolor": "white",
           "linecolor": "white",
           "ticks": "",
           "title": {
            "standoff": 15
           },
           "zerolinecolor": "white",
           "zerolinewidth": 2
          },
          "yaxis": {
           "automargin": true,
           "gridcolor": "white",
           "linecolor": "white",
           "ticks": "",
           "title": {
            "standoff": 15
           },
           "zerolinecolor": "white",
           "zerolinewidth": 2
          }
         }
        },
        "xaxis": {
         "anchor": "y",
         "categoryarray": [
          "RandomForestRegression",
          "LinearRegression"
         ],
         "categoryorder": "array",
         "domain": [
          0,
          1
         ],
         "title": {
          "text": "Model"
         }
        },
        "yaxis": {
         "anchor": "x",
         "domain": [
          0,
          1
         ],
         "title": {
          "text": "sum of Score"
         }
        }
       }
      }
     },
     "metadata": {},
     "output_type": "display_data"
    }
   ],
   "source": [
    "px.histogram(model_acc, x=\"Model\", y=\"Score\", color=\"Model\")"
   ]
  },
  {
   "cell_type": "code",
   "execution_count": 19,
   "metadata": {},
   "outputs": [],
   "source": [
    "y_lrpred = lr.predict(x_lrtest)"
   ]
  },
  {
   "cell_type": "code",
   "execution_count": 21,
   "metadata": {},
   "outputs": [],
   "source": [
    "error_rfr[\"LinearRegression Error\"] =[mean_absolute_error(y_lrtest, y_lrpred),np.sqrt(mean_squared_error(y_lrtest, y_lrpred)),mean_squared_log_error(y_lrtest, y_lrpred), r2_score(y_lrtest, y_lrpred)]"
   ]
  },
  {
   "cell_type": "code",
   "execution_count": 22,
   "metadata": {},
   "outputs": [
    {
     "data": {
      "text/html": [
       "<div>\n",
       "<style scoped>\n",
       "    .dataframe tbody tr th:only-of-type {\n",
       "        vertical-align: middle;\n",
       "    }\n",
       "\n",
       "    .dataframe tbody tr th {\n",
       "        vertical-align: top;\n",
       "    }\n",
       "\n",
       "    .dataframe thead th {\n",
       "        text-align: right;\n",
       "    }\n",
       "</style>\n",
       "<table border=\"1\" class=\"dataframe\">\n",
       "  <thead>\n",
       "    <tr style=\"text-align: right;\">\n",
       "      <th></th>\n",
       "      <th>Error_Type</th>\n",
       "      <th>RandomForest error Value</th>\n",
       "      <th>LinearRegression Error</th>\n",
       "    </tr>\n",
       "  </thead>\n",
       "  <tbody>\n",
       "    <tr>\n",
       "      <th>0</th>\n",
       "      <td>Mean Absolute Error</td>\n",
       "      <td>1922.450900</td>\n",
       "      <td>688.127807</td>\n",
       "    </tr>\n",
       "    <tr>\n",
       "      <th>1</th>\n",
       "      <td>Root Mean Square Error</td>\n",
       "      <td>2747.278708</td>\n",
       "      <td>953.736275</td>\n",
       "    </tr>\n",
       "    <tr>\n",
       "      <th>2</th>\n",
       "      <td>Mean Square Log Error</td>\n",
       "      <td>1.145927</td>\n",
       "      <td>2.097591</td>\n",
       "    </tr>\n",
       "    <tr>\n",
       "      <th>3</th>\n",
       "      <td>R2_score</td>\n",
       "      <td>0.816868</td>\n",
       "      <td>0.713684</td>\n",
       "    </tr>\n",
       "  </tbody>\n",
       "</table>\n",
       "</div>"
      ],
      "text/plain": [
       "                Error_Type  RandomForest error Value  LinearRegression Error\n",
       "0     Mean Absolute Error                1922.450900              688.127807\n",
       "1  Root Mean Square Error                2747.278708              953.736275\n",
       "2   Mean Square Log Error                   1.145927                2.097591\n",
       "3                 R2_score                  0.816868                0.713684"
      ]
     },
     "execution_count": 22,
     "metadata": {},
     "output_type": "execute_result"
    }
   ],
   "source": [
    "error_rfr"
   ]
  },
  {
   "cell_type": "code",
   "execution_count": 23,
   "metadata": {},
   "outputs": [
    {
     "data": {
      "text/html": [
       "<div>\n",
       "<style scoped>\n",
       "    .dataframe tbody tr th:only-of-type {\n",
       "        vertical-align: middle;\n",
       "    }\n",
       "\n",
       "    .dataframe tbody tr th {\n",
       "        vertical-align: top;\n",
       "    }\n",
       "\n",
       "    .dataframe thead th {\n",
       "        text-align: right;\n",
       "    }\n",
       "</style>\n",
       "<table border=\"1\" class=\"dataframe\">\n",
       "  <thead>\n",
       "    <tr style=\"text-align: right;\">\n",
       "      <th></th>\n",
       "      <th>AFP</th>\n",
       "      <th>Input</th>\n",
       "      <th>Output</th>\n",
       "      <th>Enquiry</th>\n",
       "      <th>File</th>\n",
       "      <th>Added</th>\n",
       "      <th>Duration</th>\n",
       "      <th>Effort</th>\n",
       "    </tr>\n",
       "  </thead>\n",
       "  <tbody>\n",
       "    <tr>\n",
       "      <th>0</th>\n",
       "      <td>31.5</td>\n",
       "      <td>31.5</td>\n",
       "      <td>31.5</td>\n",
       "      <td>31.5</td>\n",
       "      <td>31.5</td>\n",
       "      <td>31.5</td>\n",
       "      <td>31.5</td>\n",
       "      <td>31.5</td>\n",
       "    </tr>\n",
       "    <tr>\n",
       "      <th>1</th>\n",
       "      <td>260.0</td>\n",
       "      <td>9.0</td>\n",
       "      <td>4.0</td>\n",
       "      <td>3.0</td>\n",
       "      <td>193.0</td>\n",
       "      <td>51.0</td>\n",
       "      <td>17.0</td>\n",
       "      <td>4150.0</td>\n",
       "    </tr>\n",
       "    <tr>\n",
       "      <th>2</th>\n",
       "      <td>152.0</td>\n",
       "      <td>25.0</td>\n",
       "      <td>33.0</td>\n",
       "      <td>28.0</td>\n",
       "      <td>42.0</td>\n",
       "      <td>163.0</td>\n",
       "      <td>9.0</td>\n",
       "      <td>668.0</td>\n",
       "    </tr>\n",
       "    <tr>\n",
       "      <th>3</th>\n",
       "      <td>252.0</td>\n",
       "      <td>151.0</td>\n",
       "      <td>28.0</td>\n",
       "      <td>8.0</td>\n",
       "      <td>39.0</td>\n",
       "      <td>69.0</td>\n",
       "      <td>4.0</td>\n",
       "      <td>3238.0</td>\n",
       "    </tr>\n",
       "    <tr>\n",
       "      <th>4</th>\n",
       "      <td>292.0</td>\n",
       "      <td>93.0</td>\n",
       "      <td>0.0</td>\n",
       "      <td>194.0</td>\n",
       "      <td>20.0</td>\n",
       "      <td>0.0</td>\n",
       "      <td>13.0</td>\n",
       "      <td>2994.0</td>\n",
       "    </tr>\n",
       "    <tr>\n",
       "      <th>...</th>\n",
       "      <td>...</td>\n",
       "      <td>...</td>\n",
       "      <td>...</td>\n",
       "      <td>...</td>\n",
       "      <td>...</td>\n",
       "      <td>...</td>\n",
       "      <td>...</td>\n",
       "      <td>...</td>\n",
       "    </tr>\n",
       "    <tr>\n",
       "      <th>494</th>\n",
       "      <td>51.0</td>\n",
       "      <td>32.0</td>\n",
       "      <td>0.0</td>\n",
       "      <td>16.0</td>\n",
       "      <td>7.0</td>\n",
       "      <td>0.0</td>\n",
       "      <td>3.0</td>\n",
       "      <td>899.0</td>\n",
       "    </tr>\n",
       "    <tr>\n",
       "      <th>495</th>\n",
       "      <td>31.5</td>\n",
       "      <td>31.5</td>\n",
       "      <td>31.5</td>\n",
       "      <td>31.5</td>\n",
       "      <td>31.5</td>\n",
       "      <td>31.5</td>\n",
       "      <td>31.5</td>\n",
       "      <td>31.5</td>\n",
       "    </tr>\n",
       "    <tr>\n",
       "      <th>496</th>\n",
       "      <td>99.0</td>\n",
       "      <td>13.0</td>\n",
       "      <td>32.0</td>\n",
       "      <td>3.0</td>\n",
       "      <td>42.0</td>\n",
       "      <td>95.0</td>\n",
       "      <td>4.0</td>\n",
       "      <td>526.0</td>\n",
       "    </tr>\n",
       "    <tr>\n",
       "      <th>497</th>\n",
       "      <td>56.0</td>\n",
       "      <td>24.0</td>\n",
       "      <td>0.0</td>\n",
       "      <td>9.0</td>\n",
       "      <td>14.0</td>\n",
       "      <td>47.0</td>\n",
       "      <td>6.0</td>\n",
       "      <td>440.0</td>\n",
       "    </tr>\n",
       "    <tr>\n",
       "      <th>498</th>\n",
       "      <td>213.0</td>\n",
       "      <td>123.0</td>\n",
       "      <td>91.0</td>\n",
       "      <td>28.0</td>\n",
       "      <td>0.0</td>\n",
       "      <td>36.0</td>\n",
       "      <td>7.0</td>\n",
       "      <td>2185.0</td>\n",
       "    </tr>\n",
       "  </tbody>\n",
       "</table>\n",
       "<p>499 rows × 8 columns</p>\n",
       "</div>"
      ],
      "text/plain": [
       "       AFP  Input  Output  Enquiry   File  Added  Duration  Effort\n",
       "0     31.5   31.5    31.5     31.5   31.5   31.5      31.5    31.5\n",
       "1    260.0    9.0     4.0      3.0  193.0   51.0      17.0  4150.0\n",
       "2    152.0   25.0    33.0     28.0   42.0  163.0       9.0   668.0\n",
       "3    252.0  151.0    28.0      8.0   39.0   69.0       4.0  3238.0\n",
       "4    292.0   93.0     0.0    194.0   20.0    0.0      13.0  2994.0\n",
       "..     ...    ...     ...      ...    ...    ...       ...     ...\n",
       "494   51.0   32.0     0.0     16.0    7.0    0.0       3.0   899.0\n",
       "495   31.5   31.5    31.5     31.5   31.5   31.5      31.5    31.5\n",
       "496   99.0   13.0    32.0      3.0   42.0   95.0       4.0   526.0\n",
       "497   56.0   24.0     0.0      9.0   14.0   47.0       6.0   440.0\n",
       "498  213.0  123.0    91.0     28.0    0.0   36.0       7.0  2185.0\n",
       "\n",
       "[499 rows x 8 columns]"
      ]
     },
     "execution_count": 23,
     "metadata": {},
     "output_type": "execute_result"
    }
   ],
   "source": [
    "df_new"
   ]
  },
  {
   "cell_type": "code",
   "execution_count": 26,
   "metadata": {},
   "outputs": [],
   "source": [
    "x = df_new.iloc[:, :-1]\n",
    "y = df_new.iloc[:,-1]"
   ]
  },
  {
   "cell_type": "code",
   "execution_count": 27,
   "metadata": {},
   "outputs": [],
   "source": [
    "estimators = [\n",
    "    ('rfr', make_pipeline(RandomForestRegressor(n_estimators=100))),\n",
    "    ('lr', make_pipeline(LinearRegression()))\n",
    "]\n",
    "clf = StackingRegressor(estimators=estimators, final_estimator=LinearRegression())"
   ]
  },
  {
   "cell_type": "code",
   "execution_count": 28,
   "metadata": {},
   "outputs": [
    {
     "name": "stdout",
     "output_type": "stream",
     "text": [
      "0.6507992719453434\n",
      "0.533648030332884\n",
      "0.6562374558150209\n",
      "0.5497537710266807\n",
      "0.5672016226209826\n",
      "0.6104677945185406\n",
      "0.7331969889132917\n",
      "0.6608282236698533\n",
      "0.6015591308374262\n",
      "0.701513023990562\n",
      "0.700552753797211\n",
      "0.6692031988938323\n",
      "0.635530291716959\n",
      "0.6192466912226569\n",
      "0.6111059921281521\n",
      "0.5880581249024225\n",
      "0.7183666146422026\n",
      "0.5744736340091551\n",
      "0.7047701723218777\n",
      "0.7043113678920153\n",
      "0.6394335538848195\n",
      "0.5298146657964466\n",
      "0.5587823050527341\n",
      "0.6578601472580539\n",
      "0.614995905760844\n",
      "0.6273477045504013\n",
      "0.6759063198092694\n",
      "0.689730853695836\n",
      "0.7139462554404139\n",
      "0.6360295516294702\n",
      "0.5614296334214157\n",
      "0.691928442748377\n",
      "0.7404754113924046\n",
      "0.6448673245047606\n",
      "0.6093580831991006\n",
      "0.7747268702551187\n",
      "0.6353749276838664\n",
      "0.6312226262966971\n",
      "0.5483990244353665\n",
      "0.5370794509353622\n",
      "0.5826757242791947\n",
      "0.6626179510674238\n"
     ]
    }
   ],
   "source": [
    "scores=[]\n",
    "for i in range(0, 42):\n",
    "    x_train, x_test, y_train, y_test = train_test_split(x, y, test_size=0.20, random_state=i)\n",
    "    clf.fit(x_train, y_train)\n",
    "    scores.append([\"For value of \",i, \" got accuracy \", clf.score(x_test, y_test)])\n",
    "    print(clf.score(x_test, y_test))"
   ]
  },
  {
   "cell_type": "code",
   "execution_count": 29,
   "metadata": {},
   "outputs": [
    {
     "data": {
      "text/plain": [
       "[['For value of ', 0, ' got accuracy ', 0.6507992719453434],\n",
       " ['For value of ', 1, ' got accuracy ', 0.533648030332884],\n",
       " ['For value of ', 2, ' got accuracy ', 0.6562374558150209],\n",
       " ['For value of ', 3, ' got accuracy ', 0.5497537710266807],\n",
       " ['For value of ', 4, ' got accuracy ', 0.5672016226209826],\n",
       " ['For value of ', 5, ' got accuracy ', 0.6104677945185406],\n",
       " ['For value of ', 6, ' got accuracy ', 0.7331969889132917],\n",
       " ['For value of ', 7, ' got accuracy ', 0.6608282236698533],\n",
       " ['For value of ', 8, ' got accuracy ', 0.6015591308374262],\n",
       " ['For value of ', 9, ' got accuracy ', 0.701513023990562],\n",
       " ['For value of ', 10, ' got accuracy ', 0.700552753797211],\n",
       " ['For value of ', 11, ' got accuracy ', 0.6692031988938323],\n",
       " ['For value of ', 12, ' got accuracy ', 0.635530291716959],\n",
       " ['For value of ', 13, ' got accuracy ', 0.6192466912226569],\n",
       " ['For value of ', 14, ' got accuracy ', 0.6111059921281521],\n",
       " ['For value of ', 15, ' got accuracy ', 0.5880581249024225],\n",
       " ['For value of ', 16, ' got accuracy ', 0.7183666146422026],\n",
       " ['For value of ', 17, ' got accuracy ', 0.5744736340091551],\n",
       " ['For value of ', 18, ' got accuracy ', 0.7047701723218777],\n",
       " ['For value of ', 19, ' got accuracy ', 0.7043113678920153],\n",
       " ['For value of ', 20, ' got accuracy ', 0.6394335538848195],\n",
       " ['For value of ', 21, ' got accuracy ', 0.5298146657964466],\n",
       " ['For value of ', 22, ' got accuracy ', 0.5587823050527341],\n",
       " ['For value of ', 23, ' got accuracy ', 0.6578601472580539],\n",
       " ['For value of ', 24, ' got accuracy ', 0.614995905760844],\n",
       " ['For value of ', 25, ' got accuracy ', 0.6273477045504013],\n",
       " ['For value of ', 26, ' got accuracy ', 0.6759063198092694],\n",
       " ['For value of ', 27, ' got accuracy ', 0.689730853695836],\n",
       " ['For value of ', 28, ' got accuracy ', 0.7139462554404139],\n",
       " ['For value of ', 29, ' got accuracy ', 0.6360295516294702],\n",
       " ['For value of ', 30, ' got accuracy ', 0.5614296334214157],\n",
       " ['For value of ', 31, ' got accuracy ', 0.691928442748377],\n",
       " ['For value of ', 32, ' got accuracy ', 0.7404754113924046],\n",
       " ['For value of ', 33, ' got accuracy ', 0.6448673245047606],\n",
       " ['For value of ', 34, ' got accuracy ', 0.6093580831991006],\n",
       " ['For value of ', 35, ' got accuracy ', 0.7747268702551187],\n",
       " ['For value of ', 36, ' got accuracy ', 0.6353749276838664],\n",
       " ['For value of ', 37, ' got accuracy ', 0.6312226262966971],\n",
       " ['For value of ', 38, ' got accuracy ', 0.5483990244353665],\n",
       " ['For value of ', 39, ' got accuracy ', 0.5370794509353622],\n",
       " ['For value of ', 40, ' got accuracy ', 0.5826757242791947],\n",
       " ['For value of ', 41, ' got accuracy ', 0.6626179510674238]]"
      ]
     },
     "execution_count": 29,
     "metadata": {},
     "output_type": "execute_result"
    }
   ],
   "source": [
    "scores"
   ]
  },
  {
   "cell_type": "code",
   "execution_count": 30,
   "metadata": {},
   "outputs": [
    {
     "data": {
      "text/plain": [
       "0.7779092436910422"
      ]
     },
     "execution_count": 30,
     "metadata": {},
     "output_type": "execute_result"
    }
   ],
   "source": [
    "x_train, x_test, y_train, y_test = train_test_split(x, y, test_size=0.20, random_state=35)\n",
    "clf.fit(x_train, y_train)\n",
    "clf.score(x_test, y_test)"
   ]
  },
  {
   "cell_type": "code",
   "execution_count": 31,
   "metadata": {},
   "outputs": [],
   "source": [
    "y_pred = clf.predict(x_test)"
   ]
  },
  {
   "cell_type": "code",
   "execution_count": 32,
   "metadata": {},
   "outputs": [],
   "source": [
    "error_rfr[\"Stacking\"] = [mean_absolute_error(y_test, y_pred),np.sqrt(mean_squared_error(y_test, y_pred)),mean_squared_log_error(y_test, y_pred), r2_score(y_test, y_pred)]"
   ]
  },
  {
   "cell_type": "code",
   "execution_count": 33,
   "metadata": {},
   "outputs": [
    {
     "data": {
      "text/html": [
       "<div>\n",
       "<style scoped>\n",
       "    .dataframe tbody tr th:only-of-type {\n",
       "        vertical-align: middle;\n",
       "    }\n",
       "\n",
       "    .dataframe tbody tr th {\n",
       "        vertical-align: top;\n",
       "    }\n",
       "\n",
       "    .dataframe thead th {\n",
       "        text-align: right;\n",
       "    }\n",
       "</style>\n",
       "<table border=\"1\" class=\"dataframe\">\n",
       "  <thead>\n",
       "    <tr style=\"text-align: right;\">\n",
       "      <th></th>\n",
       "      <th>Error_Type</th>\n",
       "      <th>RandomForest error Value</th>\n",
       "      <th>LinearRegression Error</th>\n",
       "      <th>Stacking</th>\n",
       "    </tr>\n",
       "  </thead>\n",
       "  <tbody>\n",
       "    <tr>\n",
       "      <th>0</th>\n",
       "      <td>Mean Absolute Error</td>\n",
       "      <td>1922.450900</td>\n",
       "      <td>688.127807</td>\n",
       "      <td>517.426954</td>\n",
       "    </tr>\n",
       "    <tr>\n",
       "      <th>1</th>\n",
       "      <td>Root Mean Square Error</td>\n",
       "      <td>2747.278708</td>\n",
       "      <td>953.736275</td>\n",
       "      <td>754.231134</td>\n",
       "    </tr>\n",
       "    <tr>\n",
       "      <th>2</th>\n",
       "      <td>Mean Square Log Error</td>\n",
       "      <td>1.145927</td>\n",
       "      <td>2.097591</td>\n",
       "      <td>1.070240</td>\n",
       "    </tr>\n",
       "    <tr>\n",
       "      <th>3</th>\n",
       "      <td>R2_score</td>\n",
       "      <td>0.816868</td>\n",
       "      <td>0.713684</td>\n",
       "      <td>0.777909</td>\n",
       "    </tr>\n",
       "  </tbody>\n",
       "</table>\n",
       "</div>"
      ],
      "text/plain": [
       "                Error_Type  RandomForest error Value  LinearRegression Error  \\\n",
       "0     Mean Absolute Error                1922.450900              688.127807   \n",
       "1  Root Mean Square Error                2747.278708              953.736275   \n",
       "2   Mean Square Log Error                   1.145927                2.097591   \n",
       "3                 R2_score                  0.816868                0.713684   \n",
       "\n",
       "     Stacking  \n",
       "0  517.426954  \n",
       "1  754.231134  \n",
       "2    1.070240  \n",
       "3    0.777909  "
      ]
     },
     "execution_count": 33,
     "metadata": {},
     "output_type": "execute_result"
    }
   ],
   "source": [
    "error_rfr"
   ]
  },
  {
   "cell_type": "code",
   "execution_count": 34,
   "metadata": {},
   "outputs": [
    {
     "data": {
      "text/plain": [
       "[Pipeline(steps=[('randomforestregressor', RandomForestRegressor())]),\n",
       " Pipeline(steps=[('linearregression', LinearRegression())])]"
      ]
     },
     "execution_count": 34,
     "metadata": {},
     "output_type": "execute_result"
    }
   ],
   "source": [
    "clf.estimators_"
   ]
  },
  {
   "cell_type": "code",
   "execution_count": 36,
   "metadata": {},
   "outputs": [
    {
     "data": {
      "text/html": [
       "<style>#sk-container-id-1 {color: black;background-color: white;}#sk-container-id-1 pre{padding: 0;}#sk-container-id-1 div.sk-toggleable {background-color: white;}#sk-container-id-1 label.sk-toggleable__label {cursor: pointer;display: block;width: 100%;margin-bottom: 0;padding: 0.3em;box-sizing: border-box;text-align: center;}#sk-container-id-1 label.sk-toggleable__label-arrow:before {content: \"▸\";float: left;margin-right: 0.25em;color: #696969;}#sk-container-id-1 label.sk-toggleable__label-arrow:hover:before {color: black;}#sk-container-id-1 div.sk-estimator:hover label.sk-toggleable__label-arrow:before {color: black;}#sk-container-id-1 div.sk-toggleable__content {max-height: 0;max-width: 0;overflow: hidden;text-align: left;background-color: #f0f8ff;}#sk-container-id-1 div.sk-toggleable__content pre {margin: 0.2em;color: black;border-radius: 0.25em;background-color: #f0f8ff;}#sk-container-id-1 input.sk-toggleable__control:checked~div.sk-toggleable__content {max-height: 200px;max-width: 100%;overflow: auto;}#sk-container-id-1 input.sk-toggleable__control:checked~label.sk-toggleable__label-arrow:before {content: \"▾\";}#sk-container-id-1 div.sk-estimator input.sk-toggleable__control:checked~label.sk-toggleable__label {background-color: #d4ebff;}#sk-container-id-1 div.sk-label input.sk-toggleable__control:checked~label.sk-toggleable__label {background-color: #d4ebff;}#sk-container-id-1 input.sk-hidden--visually {border: 0;clip: rect(1px 1px 1px 1px);clip: rect(1px, 1px, 1px, 1px);height: 1px;margin: -1px;overflow: hidden;padding: 0;position: absolute;width: 1px;}#sk-container-id-1 div.sk-estimator {font-family: monospace;background-color: #f0f8ff;border: 1px dotted black;border-radius: 0.25em;box-sizing: border-box;margin-bottom: 0.5em;}#sk-container-id-1 div.sk-estimator:hover {background-color: #d4ebff;}#sk-container-id-1 div.sk-parallel-item::after {content: \"\";width: 100%;border-bottom: 1px solid gray;flex-grow: 1;}#sk-container-id-1 div.sk-label:hover label.sk-toggleable__label {background-color: #d4ebff;}#sk-container-id-1 div.sk-serial::before {content: \"\";position: absolute;border-left: 1px solid gray;box-sizing: border-box;top: 0;bottom: 0;left: 50%;z-index: 0;}#sk-container-id-1 div.sk-serial {display: flex;flex-direction: column;align-items: center;background-color: white;padding-right: 0.2em;padding-left: 0.2em;position: relative;}#sk-container-id-1 div.sk-item {position: relative;z-index: 1;}#sk-container-id-1 div.sk-parallel {display: flex;align-items: stretch;justify-content: center;background-color: white;position: relative;}#sk-container-id-1 div.sk-item::before, #sk-container-id-1 div.sk-parallel-item::before {content: \"\";position: absolute;border-left: 1px solid gray;box-sizing: border-box;top: 0;bottom: 0;left: 50%;z-index: -1;}#sk-container-id-1 div.sk-parallel-item {display: flex;flex-direction: column;z-index: 1;position: relative;background-color: white;}#sk-container-id-1 div.sk-parallel-item:first-child::after {align-self: flex-end;width: 50%;}#sk-container-id-1 div.sk-parallel-item:last-child::after {align-self: flex-start;width: 50%;}#sk-container-id-1 div.sk-parallel-item:only-child::after {width: 0;}#sk-container-id-1 div.sk-dashed-wrapped {border: 1px dashed gray;margin: 0 0.4em 0.5em 0.4em;box-sizing: border-box;padding-bottom: 0.4em;background-color: white;}#sk-container-id-1 div.sk-label label {font-family: monospace;font-weight: bold;display: inline-block;line-height: 1.2em;}#sk-container-id-1 div.sk-label-container {text-align: center;}#sk-container-id-1 div.sk-container {/* jupyter's `normalize.less` sets `[hidden] { display: none; }` but bootstrap.min.css set `[hidden] { display: none !important; }` so we also need the `!important` here to be able to override the default hidden behavior on the sphinx rendered scikit-learn.org. See: https://github.com/scikit-learn/scikit-learn/issues/21755 */display: inline-block !important;position: relative;}#sk-container-id-1 div.sk-text-repr-fallback {display: none;}</style><div id=\"sk-container-id-1\" class=\"sk-top-container\"><div class=\"sk-text-repr-fallback\"><pre>LinearRegression()</pre><b>In a Jupyter environment, please rerun this cell to show the HTML representation or trust the notebook. <br />On GitHub, the HTML representation is unable to render, please try loading this page with nbviewer.org.</b></div><div class=\"sk-container\" hidden><div class=\"sk-item\"><div class=\"sk-estimator sk-toggleable\"><input class=\"sk-toggleable__control sk-hidden--visually\" id=\"sk-estimator-id-1\" type=\"checkbox\" checked><label for=\"sk-estimator-id-1\" class=\"sk-toggleable__label sk-toggleable__label-arrow\">LinearRegression</label><div class=\"sk-toggleable__content\"><pre>LinearRegression()</pre></div></div></div></div></div>"
      ],
      "text/plain": [
       "LinearRegression()"
      ]
     },
     "execution_count": 36,
     "metadata": {},
     "output_type": "execute_result"
    }
   ],
   "source": [
    "clf.final_estimator_"
   ]
  },
  {
   "cell_type": "code",
   "execution_count": null,
   "metadata": {},
   "outputs": [],
   "source": []
  },
  {
   "cell_type": "code",
   "execution_count": null,
   "metadata": {},
   "outputs": [],
   "source": []
  },
  {
   "cell_type": "code",
   "execution_count": null,
   "metadata": {},
   "outputs": [],
   "source": []
  },
  {
   "cell_type": "code",
   "execution_count": null,
   "metadata": {},
   "outputs": [],
   "source": []
  }
 ],
 "metadata": {
  "kernelspec": {
   "display_name": "Python 3.10.6 64-bit",
   "language": "python",
   "name": "python3"
  },
  "language_info": {
   "codemirror_mode": {
    "name": "ipython",
    "version": 3
   },
   "file_extension": ".py",
   "mimetype": "text/x-python",
   "name": "python",
   "nbconvert_exporter": "python",
   "pygments_lexer": "ipython3",
   "version": "3.10.6"
  },
  "orig_nbformat": 4,
  "vscode": {
   "interpreter": {
    "hash": "31665cff140f5d803a2424f61e985af1ac3e3ab57ed8ed1770a5e2710c1d6dfc"
   }
  }
 },
 "nbformat": 4,
 "nbformat_minor": 2
}
